{
  "nbformat": 4,
  "nbformat_minor": 0,
  "metadata": {
    "colab": {
      "name": "Digit_Recognizer_kaggle.ipynb",
      "provenance": [],
      "collapsed_sections": []
    },
    "kernelspec": {
      "name": "python3",
      "display_name": "Python 3"
    },
    "accelerator": "GPU"
  },
  "cells": [
    {
      "cell_type": "code",
      "metadata": {
        "id": "t6UOqm_US_42",
        "colab_type": "code",
        "colab": {}
      },
      "source": [
        "import pandas as pd\n",
        "import tensorflow as tf\n",
        "from tensorflow.keras.layers import Dense, Flatten, Conv2D, MaxPooling2D\n",
        "from tensorflow import keras\n",
        "from sklearn.model_selection import StratifiedKFold\n",
        "import numpy as np\n",
        "import matplotlib.pyplot as plt"
      ],
      "execution_count": 0,
      "outputs": []
    },
    {
      "cell_type": "code",
      "metadata": {
        "id": "RmeHfoyRTLsx",
        "colab_type": "code",
        "colab": {}
      },
      "source": [
        "test = pd.read_csv('/content/drive/My Drive/dataset/digit recognizer/test.csv')\n",
        "train = pd.read_csv('/content/drive/My Drive/dataset/digit recognizer/train.csv')\n",
        "digit_submission = pd.read_csv('/content/drive/My Drive/dataset/digit recognizer/sample_submission.csv')"
      ],
      "execution_count": 0,
      "outputs": []
    },
    {
      "cell_type": "code",
      "metadata": {
        "id": "23cCSZXFUb5T",
        "colab_type": "code",
        "colab": {}
      },
      "source": [
        "train_label = train['label']\n",
        "train_image = train.drop('label', axis=1)"
      ],
      "execution_count": 0,
      "outputs": []
    },
    {
      "cell_type": "code",
      "metadata": {
        "id": "GUWH-uKX849z",
        "colab_type": "code",
        "colab": {}
      },
      "source": [
        "train_image_array = train_image.values\n",
        "train_image_array = train_image_array.astype(np.float)\n",
        "test_array = test.values\n",
        "test_array = test_array.astype(np.float)"
      ],
      "execution_count": 0,
      "outputs": []
    },
    {
      "cell_type": "code",
      "metadata": {
        "id": "iouOBHzR_A3w",
        "colab_type": "code",
        "colab": {}
      },
      "source": [
        "train_image_array, test_array = train_image_array / 255.0, test_array / 255.0"
      ],
      "execution_count": 0,
      "outputs": []
    },
    {
      "cell_type": "code",
      "metadata": {
        "id": "bVZBn0R-_iUA",
        "colab_type": "code",
        "colab": {
          "base_uri": "https://localhost:8080/",
          "height": 248
        },
        "outputId": "eb32409e-4cc9-4b40-8ff6-f66bf38d7271"
      },
      "source": [
        "def display(img):\n",
        "  #(784) => (28, 28)\n",
        "  image = img.reshape(28, 28)\n",
        "\n",
        "  plt.axis('off')\n",
        "  plt.imshow(image)\n",
        "  \n",
        "\n",
        "display(train_image_array[7])"
      ],
      "execution_count": 84,
      "outputs": [
        {
          "output_type": "display_data",
          "data": {
            "image/png": "[encoded data removed]",
            "text/plain": [
              "<Figure size 432x288 with 1 Axes>"
            ]
          },
          "metadata": {
            "tags": []
          }
        }
      ]
    },
    {
      "cell_type": "code",
      "metadata": {
        "id": "99PMuf_eAUJt",
        "colab_type": "code",
        "colab": {}
      },
      "source": [
        "train_image_3d = []\n",
        "for i in range(len(train_image_array)):\n",
        "  one_img = train_image_array[i].reshape(28, 28)\n",
        "  train_image_3d.append(one_img)\n",
        "\n",
        "train_image_4d = np.array(train_image_3d)[:, :, :, np.newaxis]"
      ],
      "execution_count": 0,
      "outputs": []
    },
    {
      "cell_type": "code",
      "metadata": {
        "id": "IURvmXBDbi6A",
        "colab_type": "code",
        "colab": {}
      },
      "source": [
        "test_3d = []\n",
        "for i in range(len(test_array)):\n",
        "  one_img = test_array[i].reshape(28, 28)\n",
        "  test_3d.append(one_img)\n",
        "\n",
        "test_4d = np.array(test_3d)[:, :, :, np.newaxis]"
      ],
      "execution_count": 0,
      "outputs": []
    },
    {
      "cell_type": "code",
      "metadata": {
        "id": "PolLsahMUG3z",
        "colab_type": "code",
        "colab": {}
      },
      "source": [
        "model = tf.keras.models.Sequential([\n",
        "                                    Conv2D(64, 3, activation='relu'),\n",
        "                                    MaxPooling2D(2, 2),\n",
        "                                    Conv2D(32, 3, activation='relu'),\n",
        "                                    MaxPooling2D(2, 2),\n",
        "                                    Flatten(),\n",
        "                                    Dense(128, activation='relu'),\n",
        "                                    Dense(10, activation='softmax')\n",
        "])"
      ],
      "execution_count": 0,
      "outputs": []
    },
    {
      "cell_type": "code",
      "metadata": {
        "id": "HPYpu5Ct7HBG",
        "colab_type": "code",
        "colab": {}
      },
      "source": [
        "model.compile(optimizer='SGD',\n",
        "              loss=tf.keras.losses.SparseCategoricalCrossentropy(from_logits=True),\n",
        "              metrics=['accuracy'])"
      ],
      "execution_count": 0,
      "outputs": []
    },
    {
      "cell_type": "code",
      "metadata": {
        "id": "htCPM4RoMop8",
        "colab_type": "code",
        "colab": {
          "base_uri": "https://localhost:8080/",
          "height": 1000
        },
        "outputId": "9e109bba-25ff-4dd6-f610-ab0f3a118e24"
      },
      "source": [
        "cv = StratifiedKFold(n_splits=5, shuffle=True, random_state=0)\n",
        "scores = []\n",
        "for train_index, valid_index in cv.split(train_image_4d, train_label):\n",
        "  model.fit(train_image_4d[train_index], train_label[train_index], epochs=10)\n",
        "  score = model.evaluate(train_image_4d[valid_index], train_label[valid_index], verbose=2)\n",
        "  scores.append(score)"
      ],
      "execution_count": 89,
      "outputs": [
        {
          "output_type": "stream",
          "text": [
            "Epoch 1/10\n",
            "1050/1050 [==============================] - 3s 3ms/step - loss: 1.6856 - accuracy: 0.8166\n",
            "Epoch 2/10\n",
            "1050/1050 [==============================] - 3s 3ms/step - loss: 1.5577 - accuracy: 0.9226\n",
            "Epoch 3/10\n",
            "1050/1050 [==============================] - 3s 3ms/step - loss: 1.5406 - accuracy: 0.9337\n",
            "Epoch 4/10\n",
            "1050/1050 [==============================] - 3s 3ms/step - loss: 1.5319 - accuracy: 0.9402\n",
            "Epoch 5/10\n",
            "1050/1050 [==============================] - 3s 3ms/step - loss: 1.5260 - accuracy: 0.9449\n",
            "Epoch 6/10\n",
            "1050/1050 [==============================] - 3s 3ms/step - loss: 1.5217 - accuracy: 0.9480\n",
            "Epoch 7/10\n",
            "1050/1050 [==============================] - 3s 3ms/step - loss: 1.5185 - accuracy: 0.9510\n",
            "Epoch 8/10\n",
            "1050/1050 [==============================] - 3s 3ms/step - loss: 1.5157 - accuracy: 0.9528\n",
            "Epoch 9/10\n",
            "1050/1050 [==============================] - 3s 3ms/step - loss: 1.5137 - accuracy: 0.9547\n",
            "Epoch 10/10\n",
            "1050/1050 [==============================] - 3s 3ms/step - loss: 1.5118 - accuracy: 0.9559\n",
            "263/263 - 1s - loss: 1.5154 - accuracy: 0.9506\n",
            "Epoch 1/10\n",
            "1050/1050 [==============================] - 3s 3ms/step - loss: 1.5117 - accuracy: 0.9557\n",
            "Epoch 2/10\n",
            "1050/1050 [==============================] - 3s 3ms/step - loss: 1.5101 - accuracy: 0.9572\n",
            "Epoch 3/10\n",
            "1050/1050 [==============================] - 3s 3ms/step - loss: 1.5087 - accuracy: 0.9585\n",
            "Epoch 4/10\n",
            "1050/1050 [==============================] - 3s 3ms/step - loss: 1.5074 - accuracy: 0.9602\n",
            "Epoch 5/10\n",
            "1050/1050 [==============================] - 3s 3ms/step - loss: 1.5064 - accuracy: 0.9605\n",
            "Epoch 6/10\n",
            "1050/1050 [==============================] - 3s 3ms/step - loss: 1.5053 - accuracy: 0.9616\n",
            "Epoch 7/10\n",
            "1050/1050 [==============================] - 3s 3ms/step - loss: 1.5043 - accuracy: 0.9626\n",
            "Epoch 8/10\n",
            "1050/1050 [==============================] - 3s 3ms/step - loss: 1.5035 - accuracy: 0.9632\n",
            "Epoch 9/10\n",
            "1050/1050 [==============================] - 3s 3ms/step - loss: 1.5026 - accuracy: 0.9640\n",
            "Epoch 10/10\n",
            "1050/1050 [==============================] - 3s 3ms/step - loss: 1.5020 - accuracy: 0.9650\n",
            "263/263 - 1s - loss: 1.5003 - accuracy: 0.9670\n",
            "Epoch 1/10\n",
            "1050/1050 [==============================] - 3s 3ms/step - loss: 1.5007 - accuracy: 0.9662\n",
            "Epoch 2/10\n",
            "1050/1050 [==============================] - 3s 3ms/step - loss: 1.5000 - accuracy: 0.9666\n",
            "Epoch 3/10\n",
            "1050/1050 [==============================] - 3s 3ms/step - loss: 1.4994 - accuracy: 0.9671\n",
            "Epoch 4/10\n",
            "1050/1050 [==============================] - 3s 3ms/step - loss: 1.4988 - accuracy: 0.9675\n",
            "Epoch 5/10\n",
            "1050/1050 [==============================] - 3s 3ms/step - loss: 1.4982 - accuracy: 0.9683\n",
            "Epoch 6/10\n",
            "1050/1050 [==============================] - 3s 3ms/step - loss: 1.4977 - accuracy: 0.9683\n",
            "Epoch 7/10\n",
            "1050/1050 [==============================] - 3s 3ms/step - loss: 1.4972 - accuracy: 0.9691\n",
            "Epoch 8/10\n",
            "1050/1050 [==============================] - 3s 3ms/step - loss: 1.4968 - accuracy: 0.9690\n",
            "Epoch 9/10\n",
            "1050/1050 [==============================] - 3s 3ms/step - loss: 1.4964 - accuracy: 0.9693\n",
            "Epoch 10/10\n",
            "1050/1050 [==============================] - 3s 3ms/step - loss: 1.4959 - accuracy: 0.9702\n",
            "263/263 - 1s - loss: 1.4986 - accuracy: 0.9662\n",
            "Epoch 1/10\n",
            "1050/1050 [==============================] - 3s 3ms/step - loss: 1.4961 - accuracy: 0.9696\n",
            "Epoch 2/10\n",
            "1050/1050 [==============================] - 3s 3ms/step - loss: 1.4957 - accuracy: 0.9702\n",
            "Epoch 3/10\n",
            "1050/1050 [==============================] - 3s 3ms/step - loss: 1.4952 - accuracy: 0.9708\n",
            "Epoch 4/10\n",
            "1050/1050 [==============================] - 3s 3ms/step - loss: 1.4948 - accuracy: 0.9710\n",
            "Epoch 5/10\n",
            "1050/1050 [==============================] - 3s 3ms/step - loss: 1.4945 - accuracy: 0.9709\n",
            "Epoch 6/10\n",
            "1050/1050 [==============================] - 3s 3ms/step - loss: 1.4941 - accuracy: 0.9716\n",
            "Epoch 7/10\n",
            "1050/1050 [==============================] - 3s 3ms/step - loss: 1.4938 - accuracy: 0.9721\n",
            "Epoch 8/10\n",
            "1050/1050 [==============================] - 3s 3ms/step - loss: 1.4934 - accuracy: 0.9721\n",
            "Epoch 9/10\n",
            "1050/1050 [==============================] - 3s 3ms/step - loss: 1.4932 - accuracy: 0.9724\n",
            "Epoch 10/10\n",
            "1050/1050 [==============================] - 3s 3ms/step - loss: 1.4929 - accuracy: 0.9724\n",
            "263/263 - 1s - loss: 1.4947 - accuracy: 0.9700\n",
            "Epoch 1/10\n",
            "1050/1050 [==============================] - 3s 3ms/step - loss: 1.4937 - accuracy: 0.9713\n",
            "Epoch 2/10\n",
            "1050/1050 [==============================] - 3s 3ms/step - loss: 1.4934 - accuracy: 0.9715\n",
            "Epoch 3/10\n",
            "1050/1050 [==============================] - 3s 3ms/step - loss: 1.4931 - accuracy: 0.9719\n",
            "Epoch 4/10\n",
            "1050/1050 [==============================] - 3s 3ms/step - loss: 1.4928 - accuracy: 0.9722\n",
            "Epoch 5/10\n",
            "1050/1050 [==============================] - 3s 3ms/step - loss: 1.4926 - accuracy: 0.9722\n",
            "Epoch 6/10\n",
            "1050/1050 [==============================] - 3s 3ms/step - loss: 1.4923 - accuracy: 0.9726\n",
            "Epoch 7/10\n",
            "1050/1050 [==============================] - 3s 3ms/step - loss: 1.4921 - accuracy: 0.9727\n",
            "Epoch 8/10\n",
            "1050/1050 [==============================] - 3s 3ms/step - loss: 1.4919 - accuracy: 0.9731\n",
            "Epoch 9/10\n",
            "1050/1050 [==============================] - 3s 3ms/step - loss: 1.4916 - accuracy: 0.9732\n",
            "Epoch 10/10\n",
            "1050/1050 [==============================] - 3s 3ms/step - loss: 1.4914 - accuracy: 0.9738\n",
            "263/263 - 1s - loss: 1.4894 - accuracy: 0.9763\n"
          ],
          "name": "stdout"
        }
      ]
    },
    {
      "cell_type": "code",
      "metadata": {
        "id": "4bRJve6jzWmG",
        "colab_type": "code",
        "colab": {
          "base_uri": "https://localhost:8080/",
          "height": 34
        },
        "outputId": "b7111d7a-71b2-43a0-9583-43e7fc0b9b29"
      },
      "source": [
        "print('Loss : {:.4f}, Accuracy : {:.4f}'.format(scores[4][0], scores[4][1]))"
      ],
      "execution_count": 114,
      "outputs": [
        {
          "output_type": "stream",
          "text": [
            "Loss : 1.4894, Accuracy : 0.9763\n"
          ],
          "name": "stdout"
        }
      ]
    },
    {
      "cell_type": "code",
      "metadata": {
        "id": "f8cRuDBBeB0v",
        "colab_type": "code",
        "colab": {
          "base_uri": "https://localhost:8080/",
          "height": 419
        },
        "outputId": "dde9323d-9d59-46ea-81e6-758f0b994ef0"
      },
      "source": [
        "predictions = model.predict(test_4d)\n",
        "predictions_list = [np.argmax(x) for x in predictions]\n",
        "digit_submission['Label'] = predictions_list\n",
        "digit_submission"
      ],
      "execution_count": 90,
      "outputs": [
        {
          "output_type": "execute_result",
          "data": {
            "text/html": [
              "<div>\n",
              "<style scoped>\n",
              "    .dataframe tbody tr th:only-of-type {\n",
              "        vertical-align: middle;\n",
              "    }\n",
              "\n",
              "    .dataframe tbody tr th {\n",
              "        vertical-align: top;\n",
              "    }\n",
              "\n",
              "    .dataframe thead th {\n",
              "        text-align: right;\n",
              "    }\n",
              "</style>\n",
              "<table border=\"1\" class=\"dataframe\">\n",
              "  <thead>\n",
              "    <tr style=\"text-align: right;\">\n",
              "      <th></th>\n",
              "      <th>ImageId</th>\n",
              "      <th>Label</th>\n",
              "    </tr>\n",
              "  </thead>\n",
              "  <tbody>\n",
              "    <tr>\n",
              "      <th>0</th>\n",
              "      <td>1</td>\n",
              "      <td>2</td>\n",
              "    </tr>\n",
              "    <tr>\n",
              "      <th>1</th>\n",
              "      <td>2</td>\n",
              "      <td>0</td>\n",
              "    </tr>\n",
              "    <tr>\n",
              "      <th>2</th>\n",
              "      <td>3</td>\n",
              "      <td>9</td>\n",
              "    </tr>\n",
              "    <tr>\n",
              "      <th>3</th>\n",
              "      <td>4</td>\n",
              "      <td>9</td>\n",
              "    </tr>\n",
              "    <tr>\n",
              "      <th>4</th>\n",
              "      <td>5</td>\n",
              "      <td>3</td>\n",
              "    </tr>\n",
              "    <tr>\n",
              "      <th>...</th>\n",
              "      <td>...</td>\n",
              "      <td>...</td>\n",
              "    </tr>\n",
              "    <tr>\n",
              "      <th>27995</th>\n",
              "      <td>27996</td>\n",
              "      <td>9</td>\n",
              "    </tr>\n",
              "    <tr>\n",
              "      <th>27996</th>\n",
              "      <td>27997</td>\n",
              "      <td>7</td>\n",
              "    </tr>\n",
              "    <tr>\n",
              "      <th>27997</th>\n",
              "      <td>27998</td>\n",
              "      <td>3</td>\n",
              "    </tr>\n",
              "    <tr>\n",
              "      <th>27998</th>\n",
              "      <td>27999</td>\n",
              "      <td>9</td>\n",
              "    </tr>\n",
              "    <tr>\n",
              "      <th>27999</th>\n",
              "      <td>28000</td>\n",
              "      <td>2</td>\n",
              "    </tr>\n",
              "  </tbody>\n",
              "</table>\n",
              "<p>28000 rows × 2 columns</p>\n",
              "</div>"
            ],
            "text/plain": [
              "       ImageId  Label\n",
              "0            1      2\n",
              "1            2      0\n",
              "2            3      9\n",
              "3            4      9\n",
              "4            5      3\n",
              "...        ...    ...\n",
              "27995    27996      9\n",
              "27996    27997      7\n",
              "27997    27998      3\n",
              "27998    27999      9\n",
              "27999    28000      2\n",
              "\n",
              "[28000 rows x 2 columns]"
            ]
          },
          "metadata": {
            "tags": []
          },
          "execution_count": 90
        }
      ]
    }
  ]
}