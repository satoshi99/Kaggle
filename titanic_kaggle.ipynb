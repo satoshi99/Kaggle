{
  "nbformat": 4,
  "nbformat_minor": 0,
  "metadata": {
    "kernelspec": {
      "display_name": "Python 3",
      "language": "python",
      "name": "python3"
    },
    "language_info": {
      "codemirror_mode": {
        "name": "ipython",
        "version": 3
      },
      "file_extension": ".py",
      "mimetype": "text/x-python",
      "name": "python",
      "nbconvert_exporter": "python",
      "pygments_lexer": "ipython3",
      "version": "3.6.6"
    },
    "colab": {
      "name": "titanic_kaggle",
      "provenance": [],
      "collapsed_sections": []
    }
  },
  "cells": [
    {
      "cell_type": "code",
      "metadata": {
        "_cell_guid": "79c7e3d0-c299-4dcb-8224-4455121ee9b0",
        "_uuid": "d629ff2d2480ee46fbb7e2d37f6b5fab8052498a",
        "id": "Dw0xM3kJUe_u",
        "colab_type": "code",
        "colab": {}
      },
      "source": [
        "# 特徴量の準備\n",
        "\n",
        "import numpy as np\n",
        "import pandas as pd\n",
        "\n",
        "train = pd.read_csv(\"../input/titanic/train.csv\")\n",
        "test = pd.read_csv(\"../input/titanic/test.csv\")\n",
        "gender_submission = pd.read_csv(\"../input/titanic/gender_submission.csv\")\n",
        "\n",
        "data = pd.concat([train, test], sort=False)\n",
        "\n",
        "data['Sex'].replace(['male','female'], [0, 1], inplace=True)\n",
        "data['Embarked'].fillna(('S'), inplace=True)\n",
        "data['Embarked'] = data['Embarked'].map( {'S': 0, 'C': 1, 'Q': 2} ).astype(int)\n",
        "data['Fare'].fillna(np.mean(data['Fare']), inplace=True)\n",
        "data['Age'].fillna(data['Age'].median(), inplace=True)\n",
        "data['FamilySize'] = data['Parch'] + data['SibSp'] + 1\n",
        "data['IsAlone'] = 0\n",
        "data.loc[data['FamilySize'] == 1, 'IsAlone'] = 1\n",
        "\n",
        "delete_columns = ['Name', 'PassengerId', 'Ticket', 'Cabin']\n",
        "data.drop(delete_columns, axis=1, inplace=True)\n",
        "\n",
        "train = data[:len(train)]\n",
        "test = data[len(train):]\n",
        "\n",
        "y_train = train['Survived']\n",
        "X_train = train.drop('Survived', axis=1)\n",
        "X_test = test.drop('Survived', axis=1)"
      ],
      "execution_count": 0,
      "outputs": []
    },
    {
      "cell_type": "code",
      "metadata": {
        "id": "v8YEO4YIUe_1",
        "colab_type": "code",
        "colab": {},
        "outputId": "f8725b3f-1c40-47ec-fedf-33db5cb66eb6"
      },
      "source": [
        "from sklearn.model_selection import train_test_split\n",
        "X_train, X_valid, y_train, y_valid = train_test_split(X_train, y_train, test_size=0.3, random_state=0, stratify=y_train)\n",
        "\n",
        "categorical_features = ['Embarked', 'Pclass', 'Sex']\n",
        "\n",
        "params = {\n",
        "    'objective': 'binary',\n",
        "    'max_bin': 300,\n",
        "    'learning_rate': 0.05,\n",
        "    'num_leaves': 40\n",
        "}\n",
        "\n",
        "import lightgbm as lgb\n",
        "\n",
        "\n",
        "lgb_train = lgb.Dataset(X_train, y_train, categorical_feature=categorical_features)\n",
        "lgb_eval = lgb.Dataset(X_valid, y_valid, reference=lgb_train, categorical_feature=categorical_features)\n",
        "\n",
        "model = lgb.train(\n",
        "    params, lgb_train,\n",
        "    valid_sets=[lgb_train, lgb_eval],\n",
        "    verbose_eval=10,\n",
        "    num_boost_round=1000,\n",
        "    early_stopping_rounds=10\n",
        ")\n",
        "\n",
        "y_pred = model.predict(X_test, num_iteration=model.best_iteration)"
      ],
      "execution_count": 0,
      "outputs": [
        {
          "output_type": "stream",
          "text": [
            "Training until validation scores don't improve for 10 rounds\n",
            "[10]\ttraining's binary_logloss: 0.505699\tvalid_1's binary_logloss: 0.532106\n",
            "[20]\ttraining's binary_logloss: 0.427825\tvalid_1's binary_logloss: 0.482279\n",
            "[30]\ttraining's binary_logloss: 0.377242\tvalid_1's binary_logloss: 0.456641\n",
            "[40]\ttraining's binary_logloss: 0.345424\tvalid_1's binary_logloss: 0.447083\n",
            "[50]\ttraining's binary_logloss: 0.323113\tvalid_1's binary_logloss: 0.440407\n",
            "[60]\ttraining's binary_logloss: 0.302727\tvalid_1's binary_logloss: 0.434527\n",
            "[70]\ttraining's binary_logloss: 0.285597\tvalid_1's binary_logloss: 0.434932\n",
            "Early stopping, best iteration is:\n",
            "[66]\ttraining's binary_logloss: 0.293072\tvalid_1's binary_logloss: 0.433251\n"
          ],
          "name": "stdout"
        },
        {
          "output_type": "stream",
          "text": [
            "/opt/conda/lib/python3.6/site-packages/lightgbm/basic.py:1291: UserWarning: Using categorical_feature in Dataset.\n",
            "  warnings.warn('Using categorical_feature in Dataset.')\n"
          ],
          "name": "stderr"
        }
      ]
    },
    {
      "cell_type": "code",
      "metadata": {
        "id": "dIyJLq3aUe_3",
        "colab_type": "code",
        "colab": {},
        "outputId": "7d3d8765-de63-4c5c-826e-cb6bb5b89a32"
      },
      "source": [
        "y_pred[:10]"
      ],
      "execution_count": 0,
      "outputs": [
        {
          "output_type": "execute_result",
          "data": {
            "text/plain": [
              "array([0.03605598, 0.40306884, 0.10732166, 0.0802399 , 0.46011271,\n",
              "       0.20222002, 0.64929492, 0.11896033, 0.7452973 , 0.01917651])"
            ]
          },
          "metadata": {
            "tags": []
          },
          "execution_count": 4
        }
      ]
    },
    {
      "cell_type": "code",
      "metadata": {
        "id": "lAaQL3n3Ue_6",
        "colab_type": "code",
        "colab": {},
        "outputId": "58e46f72-f836-4c91-8440-0d85c94638fa"
      },
      "source": [
        "y_pred = (y_pred > 0.5).astype(int)\n",
        "y_pred[:10]"
      ],
      "execution_count": 0,
      "outputs": [
        {
          "output_type": "execute_result",
          "data": {
            "text/plain": [
              "array([0, 0, 0, 0, 0, 0, 1, 0, 1, 0])"
            ]
          },
          "metadata": {
            "tags": []
          },
          "execution_count": 5
        }
      ]
    },
    {
      "cell_type": "code",
      "metadata": {
        "id": "v5szV3ltUe_8",
        "colab_type": "code",
        "colab": {},
        "outputId": "bf95bc2c-e546-49ab-f898-9956a61090ca"
      },
      "source": [
        "sub = gender_submission\n",
        "\n",
        "sub['Survived'] = y_pred\n",
        "sub.to_csv(\"submission_lightgbm_holdout.csv\", index=False)\n",
        "\n",
        "sub.head()"
      ],
      "execution_count": 0,
      "outputs": [
        {
          "output_type": "execute_result",
          "data": {
            "text/html": [
              "<div>\n",
              "<style scoped>\n",
              "    .dataframe tbody tr th:only-of-type {\n",
              "        vertical-align: middle;\n",
              "    }\n",
              "\n",
              "    .dataframe tbody tr th {\n",
              "        vertical-align: top;\n",
              "    }\n",
              "\n",
              "    .dataframe thead th {\n",
              "        text-align: right;\n",
              "    }\n",
              "</style>\n",
              "<table border=\"1\" class=\"dataframe\">\n",
              "  <thead>\n",
              "    <tr style=\"text-align: right;\">\n",
              "      <th></th>\n",
              "      <th>PassengerId</th>\n",
              "      <th>Survived</th>\n",
              "    </tr>\n",
              "  </thead>\n",
              "  <tbody>\n",
              "    <tr>\n",
              "      <th>0</th>\n",
              "      <td>892</td>\n",
              "      <td>0</td>\n",
              "    </tr>\n",
              "    <tr>\n",
              "      <th>1</th>\n",
              "      <td>893</td>\n",
              "      <td>0</td>\n",
              "    </tr>\n",
              "    <tr>\n",
              "      <th>2</th>\n",
              "      <td>894</td>\n",
              "      <td>0</td>\n",
              "    </tr>\n",
              "    <tr>\n",
              "      <th>3</th>\n",
              "      <td>895</td>\n",
              "      <td>0</td>\n",
              "    </tr>\n",
              "    <tr>\n",
              "      <th>4</th>\n",
              "      <td>896</td>\n",
              "      <td>0</td>\n",
              "    </tr>\n",
              "  </tbody>\n",
              "</table>\n",
              "</div>"
            ],
            "text/plain": [
              "   PassengerId  Survived\n",
              "0          892         0\n",
              "1          893         0\n",
              "2          894         0\n",
              "3          895         0\n",
              "4          896         0"
            ]
          },
          "metadata": {
            "tags": []
          },
          "execution_count": 6
        }
      ]
    },
    {
      "cell_type": "code",
      "metadata": {
        "id": "3nEHqlmPUe__",
        "colab_type": "code",
        "colab": {},
        "outputId": "eb21c77b-05f0-4135-c122-fa878acacdc8"
      },
      "source": [
        "# 先にtrain_test_splitしてしまっているので、改めて特徴量の準備\n",
        "\n",
        "train = pd.read_csv(\"../input/titanic/train.csv\")\n",
        "test = pd.read_csv(\"../input/titanic/test.csv\")\n",
        "gender_submission = pd.read_csv(\"../input/titanic/gender_submission.csv\")\n",
        "\n",
        "data = pd.concat([train, test], sort=False)\n",
        "\n",
        "data['Sex'].replace(['male','female'], [0, 1], inplace=True)\n",
        "data['Embarked'].fillna(('S'), inplace=True)\n",
        "data['Embarked'] = data['Embarked'].map( {'S': 0, 'C': 1, 'Q': 2} ).astype(int)\n",
        "data['Fare'].fillna(np.mean(data['Fare']), inplace=True)\n",
        "data['Age'].fillna(data['Age'].median(), inplace=True)\n",
        "data['FamilySize'] = data['Parch'] + data['SibSp'] + 1\n",
        "data['IsAlone'] = 0\n",
        "data.loc[data['FamilySize'] == 1, 'IsAlone'] = 1\n",
        "\n",
        "delete_columns = ['Name', 'PassengerId', 'Ticket', 'Cabin']\n",
        "data.drop(delete_columns, axis=1, inplace=True)\n",
        "\n",
        "train = data[:len(train)]\n",
        "test = data[len(train):]\n",
        "\n",
        "y_train = train['Survived']\n",
        "X_train = train.drop('Survived', axis=1)\n",
        "X_test = test.drop('Survived', axis=1)\n",
        "\n",
        "X_train.head()"
      ],
      "execution_count": 0,
      "outputs": [
        {
          "output_type": "execute_result",
          "data": {
            "text/html": [
              "<div>\n",
              "<style scoped>\n",
              "    .dataframe tbody tr th:only-of-type {\n",
              "        vertical-align: middle;\n",
              "    }\n",
              "\n",
              "    .dataframe tbody tr th {\n",
              "        vertical-align: top;\n",
              "    }\n",
              "\n",
              "    .dataframe thead th {\n",
              "        text-align: right;\n",
              "    }\n",
              "</style>\n",
              "<table border=\"1\" class=\"dataframe\">\n",
              "  <thead>\n",
              "    <tr style=\"text-align: right;\">\n",
              "      <th></th>\n",
              "      <th>Pclass</th>\n",
              "      <th>Sex</th>\n",
              "      <th>Age</th>\n",
              "      <th>SibSp</th>\n",
              "      <th>Parch</th>\n",
              "      <th>Fare</th>\n",
              "      <th>Embarked</th>\n",
              "      <th>FamilySize</th>\n",
              "      <th>IsAlone</th>\n",
              "    </tr>\n",
              "  </thead>\n",
              "  <tbody>\n",
              "    <tr>\n",
              "      <th>0</th>\n",
              "      <td>3</td>\n",
              "      <td>0</td>\n",
              "      <td>22.0</td>\n",
              "      <td>1</td>\n",
              "      <td>0</td>\n",
              "      <td>7.2500</td>\n",
              "      <td>0</td>\n",
              "      <td>2</td>\n",
              "      <td>0</td>\n",
              "    </tr>\n",
              "    <tr>\n",
              "      <th>1</th>\n",
              "      <td>1</td>\n",
              "      <td>1</td>\n",
              "      <td>38.0</td>\n",
              "      <td>1</td>\n",
              "      <td>0</td>\n",
              "      <td>71.2833</td>\n",
              "      <td>1</td>\n",
              "      <td>2</td>\n",
              "      <td>0</td>\n",
              "    </tr>\n",
              "    <tr>\n",
              "      <th>2</th>\n",
              "      <td>3</td>\n",
              "      <td>1</td>\n",
              "      <td>26.0</td>\n",
              "      <td>0</td>\n",
              "      <td>0</td>\n",
              "      <td>7.9250</td>\n",
              "      <td>0</td>\n",
              "      <td>1</td>\n",
              "      <td>1</td>\n",
              "    </tr>\n",
              "    <tr>\n",
              "      <th>3</th>\n",
              "      <td>1</td>\n",
              "      <td>1</td>\n",
              "      <td>35.0</td>\n",
              "      <td>1</td>\n",
              "      <td>0</td>\n",
              "      <td>53.1000</td>\n",
              "      <td>0</td>\n",
              "      <td>2</td>\n",
              "      <td>0</td>\n",
              "    </tr>\n",
              "    <tr>\n",
              "      <th>4</th>\n",
              "      <td>3</td>\n",
              "      <td>0</td>\n",
              "      <td>35.0</td>\n",
              "      <td>0</td>\n",
              "      <td>0</td>\n",
              "      <td>8.0500</td>\n",
              "      <td>0</td>\n",
              "      <td>1</td>\n",
              "      <td>1</td>\n",
              "    </tr>\n",
              "  </tbody>\n",
              "</table>\n",
              "</div>"
            ],
            "text/plain": [
              "   Pclass  Sex   Age  SibSp  Parch     Fare  Embarked  FamilySize  IsAlone\n",
              "0       3    0  22.0      1      0   7.2500         0           2        0\n",
              "1       1    1  38.0      1      0  71.2833         1           2        0\n",
              "2       3    1  26.0      0      0   7.9250         0           1        1\n",
              "3       1    1  35.0      1      0  53.1000         0           2        0\n",
              "4       3    0  35.0      0      0   8.0500         0           1        1"
            ]
          },
          "metadata": {
            "tags": []
          },
          "execution_count": 7
        }
      ]
    },
    {
      "cell_type": "code",
      "metadata": {
        "collapsed": true,
        "id": "_jff6-qIUfAC",
        "colab_type": "code",
        "colab": {},
        "outputId": "1341561f-89ed-4b90-a401-e8bc452eb5a2"
      },
      "source": [
        "from sklearn.model_selection import KFold\n",
        "\n",
        "y_preds = []\n",
        "models = []\n",
        "oof_train = np.zeros((len(X_train),))\n",
        "cv = KFold(n_splits=5, shuffle=True, random_state=0)\n",
        "\n",
        "categorical_features = ['Embarked', 'Pclass', 'Sex']\n",
        "\n",
        "params = {\n",
        "    'objective': 'binary',\n",
        "    'max_bin': 300,\n",
        "    'learning_rate': 0.05,\n",
        "    'num_leaves': 40\n",
        "}\n",
        "\n",
        "for fold_id, (train_index, valid_index) in enumerate(cv.split(X_train)):\n",
        "    X_tr = X_train.loc[train_index, :]\n",
        "    X_val = X_train.loc[valid_index, :]\n",
        "    y_tr = y_train[train_index]\n",
        "    y_val = y_train[valid_index]\n",
        "\n",
        "    lgb_train = lgb.Dataset(X_tr, y_tr, categorical_feature=categorical_features)\n",
        "    lgb_eval = lgb.Dataset(X_val, y_val, reference=lgb_train, categorical_feature=categorical_features)\n",
        "\n",
        "    model = lgb.train(\n",
        "        params, lgb_train,\n",
        "        valid_sets=[lgb_train, lgb_eval],\n",
        "        verbose_eval=10,\n",
        "        num_boost_round=1000,\n",
        "        early_stopping_rounds=10\n",
        "    )\n",
        "\n",
        "    oof_train[valid_index] = model.predict(X_val, num_iteration=model.best_iteration)\n",
        "    y_pred = model.predict(X_test, num_iteration=model.best_iteration)\n",
        "\n",
        "    y_preds.append(y_pred)\n",
        "    models.append(model)"
      ],
      "execution_count": 0,
      "outputs": [
        {
          "output_type": "stream",
          "text": [
            "/opt/conda/lib/python3.6/site-packages/lightgbm/basic.py:1291: UserWarning: Using categorical_feature in Dataset.\n",
            "  warnings.warn('Using categorical_feature in Dataset.')\n"
          ],
          "name": "stderr"
        },
        {
          "output_type": "stream",
          "text": [
            "Training until validation scores don't improve for 10 rounds\n",
            "[10]\ttraining's binary_logloss: 0.506339\tvalid_1's binary_logloss: 0.516198\n",
            "[20]\ttraining's binary_logloss: 0.428668\tvalid_1's binary_logloss: 0.446596\n",
            "[30]\ttraining's binary_logloss: 0.383412\tvalid_1's binary_logloss: 0.411961\n",
            "[40]\ttraining's binary_logloss: 0.35367\tvalid_1's binary_logloss: 0.397122\n",
            "[50]\ttraining's binary_logloss: 0.329451\tvalid_1's binary_logloss: 0.391041\n",
            "[60]\ttraining's binary_logloss: 0.307092\tvalid_1's binary_logloss: 0.38325\n",
            "[70]\ttraining's binary_logloss: 0.290771\tvalid_1's binary_logloss: 0.377067\n",
            "[80]\ttraining's binary_logloss: 0.274935\tvalid_1's binary_logloss: 0.373918\n",
            "[90]\ttraining's binary_logloss: 0.260335\tvalid_1's binary_logloss: 0.370602\n",
            "Early stopping, best iteration is:\n",
            "[85]\ttraining's binary_logloss: 0.267203\tvalid_1's binary_logloss: 0.369116\n",
            "Training until validation scores don't improve for 10 rounds\n",
            "[10]\ttraining's binary_logloss: 0.504211\tvalid_1's binary_logloss: 0.534594\n",
            "[20]\ttraining's binary_logloss: 0.422236\tvalid_1's binary_logloss: 0.481243\n",
            "[30]\ttraining's binary_logloss: 0.37173\tvalid_1's binary_logloss: 0.459512\n",
            "[40]\ttraining's binary_logloss: 0.341914\tvalid_1's binary_logloss: 0.453871\n",
            "[50]\ttraining's binary_logloss: 0.318699\tvalid_1's binary_logloss: 0.451806\n",
            "[60]\ttraining's binary_logloss: 0.296894\tvalid_1's binary_logloss: 0.449685\n",
            "Early stopping, best iteration is:\n",
            "[58]\ttraining's binary_logloss: 0.301388\tvalid_1's binary_logloss: 0.449112\n",
            "Training until validation scores don't improve for 10 rounds\n",
            "[10]\ttraining's binary_logloss: 0.506747\tvalid_1's binary_logloss: 0.507713\n",
            "[20]\ttraining's binary_logloss: 0.42895\tvalid_1's binary_logloss: 0.449278\n",
            "[30]\ttraining's binary_logloss: 0.384356\tvalid_1's binary_logloss: 0.41254\n",
            "[40]\ttraining's binary_logloss: 0.355218\tvalid_1's binary_logloss: 0.396228\n",
            "[50]\ttraining's binary_logloss: 0.333925\tvalid_1's binary_logloss: 0.387799\n",
            "[60]\ttraining's binary_logloss: 0.313799\tvalid_1's binary_logloss: 0.385787\n",
            "[70]\ttraining's binary_logloss: 0.298536\tvalid_1's binary_logloss: 0.38534\n",
            "[80]\ttraining's binary_logloss: 0.283249\tvalid_1's binary_logloss: 0.383338\n",
            "[90]\ttraining's binary_logloss: 0.270355\tvalid_1's binary_logloss: 0.385343\n",
            "Early stopping, best iteration is:\n",
            "[80]\ttraining's binary_logloss: 0.283249\tvalid_1's binary_logloss: 0.383338\n",
            "Training until validation scores don't improve for 10 rounds\n",
            "[10]\ttraining's binary_logloss: 0.497977\tvalid_1's binary_logloss: 0.525947\n",
            "[20]\ttraining's binary_logloss: 0.416873\tvalid_1's binary_logloss: 0.471473\n",
            "[30]\ttraining's binary_logloss: 0.368347\tvalid_1's binary_logloss: 0.446558\n",
            "[40]\ttraining's binary_logloss: 0.338844\tvalid_1's binary_logloss: 0.437886\n",
            "[50]\ttraining's binary_logloss: 0.318398\tvalid_1's binary_logloss: 0.437554\n",
            "Early stopping, best iteration is:\n",
            "[41]\ttraining's binary_logloss: 0.336795\tvalid_1's binary_logloss: 0.437121\n",
            "Training until validation scores don't improve for 10 rounds\n",
            "[10]\ttraining's binary_logloss: 0.494316\tvalid_1's binary_logloss: 0.552225\n",
            "[20]\ttraining's binary_logloss: 0.417327\tvalid_1's binary_logloss: 0.487758\n",
            "[30]\ttraining's binary_logloss: 0.370965\tvalid_1's binary_logloss: 0.453038\n",
            "[40]\ttraining's binary_logloss: 0.341695\tvalid_1's binary_logloss: 0.439283\n",
            "[50]\ttraining's binary_logloss: 0.319843\tvalid_1's binary_logloss: 0.4351\n",
            "[60]\ttraining's binary_logloss: 0.301123\tvalid_1's binary_logloss: 0.435584\n",
            "Early stopping, best iteration is:\n",
            "[51]\ttraining's binary_logloss: 0.31821\tvalid_1's binary_logloss: 0.4347\n"
          ],
          "name": "stdout"
        }
      ]
    },
    {
      "cell_type": "code",
      "metadata": {
        "id": "w6xMsOIPUfAF",
        "colab_type": "code",
        "colab": {},
        "outputId": "f125d0df-d9b5-4ae3-8bd1-d59cb5bfe6b5"
      },
      "source": [
        "pd.DataFrame(oof_train).to_csv('oof_train_kfold.csv', index=False)\n",
        "\n",
        "scores = [\n",
        "    m.best_score['valid_1']['binary_logloss'] for m in models\n",
        "]\n",
        "score = sum(scores) / len(scores)\n",
        "print('===CV scores===')\n",
        "print(scores)\n",
        "print(score)"
      ],
      "execution_count": 0,
      "outputs": [
        {
          "output_type": "stream",
          "text": [
            "===CV scores===\n",
            "[0.3691161193267496, 0.44911229658021967, 0.3833384988458873, 0.43712149656630833, 0.43469994547894103]\n",
            "0.41467767135962114\n"
          ],
          "name": "stdout"
        }
      ]
    },
    {
      "cell_type": "code",
      "metadata": {
        "id": "5jz3GEJxUfAH",
        "colab_type": "code",
        "colab": {},
        "outputId": "8ae3398a-45cc-433b-eec0-e226cc93f854"
      },
      "source": [
        "from sklearn.metrics import accuracy_score\n",
        "\n",
        "\n",
        "y_pred_oof = (oof_train > 0.5).astype(int)\n",
        "accuracy_score(y_train, y_pred_oof)"
      ],
      "execution_count": 0,
      "outputs": [
        {
          "output_type": "execute_result",
          "data": {
            "text/plain": [
              "0.8226711560044894"
            ]
          },
          "metadata": {
            "tags": []
          },
          "execution_count": 10
        }
      ]
    },
    {
      "cell_type": "code",
      "metadata": {
        "id": "wHzDAWRVUfAK",
        "colab_type": "code",
        "colab": {},
        "outputId": "e080a8f2-7598-4a3b-b289-7872b62ea448"
      },
      "source": [
        "len(y_preds)"
      ],
      "execution_count": 0,
      "outputs": [
        {
          "output_type": "execute_result",
          "data": {
            "text/plain": [
              "5"
            ]
          },
          "metadata": {
            "tags": []
          },
          "execution_count": 11
        }
      ]
    },
    {
      "cell_type": "code",
      "metadata": {
        "id": "TlHAzuoxUfAM",
        "colab_type": "code",
        "colab": {},
        "outputId": "62bb2c4b-f0b8-4e46-edbd-3768802c9687"
      },
      "source": [
        "y_preds[0][:10]"
      ],
      "execution_count": 0,
      "outputs": [
        {
          "output_type": "execute_result",
          "data": {
            "text/plain": [
              "array([0.07120088, 0.18601086, 0.02400096, 0.40979176, 0.40890152,\n",
              "       0.4906518 , 0.580799  , 0.21157361, 0.82465467, 0.01063327])"
            ]
          },
          "metadata": {
            "tags": []
          },
          "execution_count": 12
        }
      ]
    },
    {
      "cell_type": "code",
      "metadata": {
        "id": "L1GnXKFAUfAP",
        "colab_type": "code",
        "colab": {},
        "outputId": "c96513ee-59c0-4252-9495-1ef786a2ee36"
      },
      "source": [
        "y_sub = sum(y_preds) / len(y_preds)\n",
        "y_sub = (y_sub > 0.5).astype(int)\n",
        "y_sub[:10]"
      ],
      "execution_count": 0,
      "outputs": [
        {
          "output_type": "execute_result",
          "data": {
            "text/plain": [
              "array([0, 0, 0, 0, 0, 0, 1, 0, 1, 0])"
            ]
          },
          "metadata": {
            "tags": []
          },
          "execution_count": 13
        }
      ]
    },
    {
      "cell_type": "code",
      "metadata": {
        "id": "SUtfG3mEUfAS",
        "colab_type": "code",
        "colab": {},
        "outputId": "3e47e71f-8d6f-4903-c0ca-44c8b5822e32"
      },
      "source": [
        "sub['Survived'] = y_sub\n",
        "sub.to_csv(\"submission_lightgbm_kfold.csv\", index=False)\n",
        "\n",
        "sub.head()"
      ],
      "execution_count": 0,
      "outputs": [
        {
          "output_type": "execute_result",
          "data": {
            "text/html": [
              "<div>\n",
              "<style scoped>\n",
              "    .dataframe tbody tr th:only-of-type {\n",
              "        vertical-align: middle;\n",
              "    }\n",
              "\n",
              "    .dataframe tbody tr th {\n",
              "        vertical-align: top;\n",
              "    }\n",
              "\n",
              "    .dataframe thead th {\n",
              "        text-align: right;\n",
              "    }\n",
              "</style>\n",
              "<table border=\"1\" class=\"dataframe\">\n",
              "  <thead>\n",
              "    <tr style=\"text-align: right;\">\n",
              "      <th></th>\n",
              "      <th>PassengerId</th>\n",
              "      <th>Survived</th>\n",
              "    </tr>\n",
              "  </thead>\n",
              "  <tbody>\n",
              "    <tr>\n",
              "      <th>0</th>\n",
              "      <td>892</td>\n",
              "      <td>0</td>\n",
              "    </tr>\n",
              "    <tr>\n",
              "      <th>1</th>\n",
              "      <td>893</td>\n",
              "      <td>0</td>\n",
              "    </tr>\n",
              "    <tr>\n",
              "      <th>2</th>\n",
              "      <td>894</td>\n",
              "      <td>0</td>\n",
              "    </tr>\n",
              "    <tr>\n",
              "      <th>3</th>\n",
              "      <td>895</td>\n",
              "      <td>0</td>\n",
              "    </tr>\n",
              "    <tr>\n",
              "      <th>4</th>\n",
              "      <td>896</td>\n",
              "      <td>0</td>\n",
              "    </tr>\n",
              "  </tbody>\n",
              "</table>\n",
              "</div>"
            ],
            "text/plain": [
              "   PassengerId  Survived\n",
              "0          892         0\n",
              "1          893         0\n",
              "2          894         0\n",
              "3          895         0\n",
              "4          896         0"
            ]
          },
          "metadata": {
            "tags": []
          },
          "execution_count": 14
        }
      ]
    },
    {
      "cell_type": "code",
      "metadata": {
        "id": "IU5hoHg6UfAT",
        "colab_type": "code",
        "colab": {},
        "outputId": "5ee21b2d-93ab-481a-da0c-53935c84f864"
      },
      "source": [
        "from sklearn.model_selection import KFold\n",
        "\n",
        "\n",
        "cv = KFold(n_splits=5, shuffle=True, random_state=0)\n",
        "for fold_id, (train_index, valid_index) in enumerate(cv.split(X_train)):\n",
        "    X_tr = X_train.loc[train_index, :]\n",
        "    X_val = X_train.loc[valid_index, :]\n",
        "    y_tr = y_train[train_index]\n",
        "    y_val = y_train[valid_index]\n",
        "\n",
        "    print(f'fold: {fold_id}')\n",
        "    print(f'y_tr y==1 rate: {sum(y_tr)/len(y_tr)}')\n",
        "    print(f'y_val y==1 rate: {sum(y_val)/len(y_val)}')"
      ],
      "execution_count": 0,
      "outputs": [
        {
          "output_type": "stream",
          "text": [
            "fold: 0\n",
            "y_tr y==1 rate: 0.38342696629213485\n",
            "y_val y==1 rate: 0.3854748603351955\n",
            "fold: 1\n",
            "y_tr y==1 rate: 0.3856942496493689\n",
            "y_val y==1 rate: 0.37640449438202245\n",
            "fold: 2\n",
            "y_tr y==1 rate: 0.39831697054698456\n",
            "y_val y==1 rate: 0.3258426966292135\n",
            "fold: 3\n",
            "y_tr y==1 rate: 0.3856942496493689\n",
            "y_val y==1 rate: 0.37640449438202245\n",
            "fold: 4\n",
            "y_tr y==1 rate: 0.36605890603085556\n",
            "y_val y==1 rate: 0.4550561797752809\n"
          ],
          "name": "stdout"
        }
      ]
    },
    {
      "cell_type": "code",
      "metadata": {
        "id": "tcgaqIPaUfAV",
        "colab_type": "code",
        "colab": {},
        "outputId": "0519f608-52b9-4bfc-c9ec-4dc77fcde432"
      },
      "source": [
        "cv.split(X_train)"
      ],
      "execution_count": 0,
      "outputs": [
        {
          "output_type": "execute_result",
          "data": {
            "text/plain": [
              "<generator object _BaseKFold.split at 0x7f118322f4c0>"
            ]
          },
          "metadata": {
            "tags": []
          },
          "execution_count": 16
        }
      ]
    },
    {
      "cell_type": "code",
      "metadata": {
        "collapsed": true,
        "id": "bOFPZxkCUfAX",
        "colab_type": "code",
        "colab": {},
        "outputId": "0c11b66f-f088-4516-e532-995c9bf79f4d"
      },
      "source": [
        "from sklearn.model_selection import StratifiedKFold\n",
        "\n",
        "\n",
        "cv = StratifiedKFold(n_splits=5, shuffle=True, random_state=0)\n",
        "for fold_id, (train_index, valid_index) in enumerate(cv.split(X_train, y_train)):\n",
        "    X_tr = X_train.loc[train_index, :]\n",
        "    X_val = X_train.loc[valid_index, :]\n",
        "    y_tr = y_train[train_index]\n",
        "    y_val = y_train[valid_index]\n",
        "\n",
        "    print(f'fold: {fold_id}')\n",
        "    print(f'y_tr y==1 rate: {sum(y_tr)/len(y_tr)}')\n",
        "    print(f'y_val y==1 rate: {sum(y_val)/len(y_val)}')\n",
        "    \n"
      ],
      "execution_count": 0,
      "outputs": [
        {
          "output_type": "stream",
          "text": [
            "fold: 0\n",
            "y_tr y==1 rate: 0.38342696629213485\n",
            "y_val y==1 rate: 0.3854748603351955\n",
            "fold: 1\n",
            "y_tr y==1 rate: 0.38429172510518933\n",
            "y_val y==1 rate: 0.38202247191011235\n",
            "fold: 2\n",
            "y_tr y==1 rate: 0.38429172510518933\n",
            "y_val y==1 rate: 0.38202247191011235\n",
            "fold: 3\n",
            "y_tr y==1 rate: 0.38429172510518933\n",
            "y_val y==1 rate: 0.38202247191011235\n",
            "fold: 4\n",
            "y_tr y==1 rate: 0.38288920056100983\n",
            "y_val y==1 rate: 0.38764044943820225\n"
          ],
          "name": "stdout"
        }
      ]
    },
    {
      "cell_type": "code",
      "metadata": {
        "id": "bFYLNnNkUfAd",
        "colab_type": "code",
        "colab": {}
      },
      "source": [
        "from sklearn.model_selection import StratifiedKFold\n",
        "\n",
        "\n",
        "y_preds = []\n",
        "models = []\n",
        "oof_train = np.zeros((len(X_train),))\n",
        "cv = StratifiedKFold(n_splits=5, shuffle=True, random_state=0)\n",
        "\n",
        "categorical_features = ['Embarked', 'Pclass', 'Sex']\n",
        "\n",
        "params = {\n",
        "    'objective': 'binary',\n",
        "    'max_bin': 300,\n",
        "    'learning_rate': 0.05,\n",
        "    'num_leaves': 40\n",
        "}\n",
        "\n"
      ],
      "execution_count": 0,
      "outputs": []
    },
    {
      "cell_type": "code",
      "metadata": {
        "id": "mc1ldEKkUfAf",
        "colab_type": "code",
        "colab": {},
        "outputId": "3a88bcc0-1c65-463a-b55e-0ba58a458299"
      },
      "source": [
        "for fold_id, (train_index, valid_index) in enumerate(cv.split(X_train, y_train)):\n",
        "    X_tr = X_train.loc[train_index, :]\n",
        "    X_val = X_train.loc[valid_index, :]\n",
        "    y_tr = y_train[train_index]\n",
        "    y_val = y_train[valid_index]\n",
        "\n",
        "    lgb_train = lgb.Dataset(X_tr, y_tr, categorical_feature=categorical_features)\n",
        "    lgb_eval = lgb.Dataset(X_val, y_val, reference=lgb_train, categorical_feature=categorical_features)\n",
        "\n",
        "    model = lgb.train(\n",
        "        params, lgb_train,\n",
        "        valid_sets=[lgb_train, lgb_eval],\n",
        "        verbose_eval=10,\n",
        "        num_boost_round=1000,\n",
        "        early_stopping_rounds=10\n",
        "    )\n",
        "\n",
        "    oof_train[valid_index] = model.predict(X_val, num_iteration=model.best_iteration)\n",
        "    y_pred = model.predict(X_test, num_iteration=model.best_iteration)\n",
        "\n",
        "    y_preds.append(y_pred)\n",
        "    models.append(model)"
      ],
      "execution_count": 0,
      "outputs": [
        {
          "output_type": "stream",
          "text": [
            "Training until validation scores don't improve for 10 rounds\n",
            "[10]\ttraining's binary_logloss: 0.503801\tvalid_1's binary_logloss: 0.508983\n",
            "[20]\ttraining's binary_logloss: 0.426843\tvalid_1's binary_logloss: 0.439196\n",
            "[30]\ttraining's binary_logloss: 0.383499\tvalid_1's binary_logloss: 0.405348\n",
            "[40]\ttraining's binary_logloss: 0.354599\tvalid_1's binary_logloss: 0.392772\n"
          ],
          "name": "stdout"
        },
        {
          "output_type": "stream",
          "text": [
            "/opt/conda/lib/python3.6/site-packages/lightgbm/basic.py:1291: UserWarning: Using categorical_feature in Dataset.\n",
            "  warnings.warn('Using categorical_feature in Dataset.')\n"
          ],
          "name": "stderr"
        },
        {
          "output_type": "stream",
          "text": [
            "[50]\ttraining's binary_logloss: 0.330884\tvalid_1's binary_logloss: 0.386935\n",
            "Early stopping, best iteration is:\n",
            "[47]\ttraining's binary_logloss: 0.339469\tvalid_1's binary_logloss: 0.385441\n",
            "Training until validation scores don't improve for 10 rounds\n",
            "[10]\ttraining's binary_logloss: 0.504714\tvalid_1's binary_logloss: 0.51492\n",
            "[20]\ttraining's binary_logloss: 0.427928\tvalid_1's binary_logloss: 0.446966\n",
            "[30]\ttraining's binary_logloss: 0.380425\tvalid_1's binary_logloss: 0.408636\n",
            "[40]\ttraining's binary_logloss: 0.350042\tvalid_1's binary_logloss: 0.392234\n",
            "[50]\ttraining's binary_logloss: 0.326328\tvalid_1's binary_logloss: 0.385604\n",
            "[60]\ttraining's binary_logloss: 0.306096\tvalid_1's binary_logloss: 0.385138\n",
            "Early stopping, best iteration is:\n",
            "[51]\ttraining's binary_logloss: 0.324702\tvalid_1's binary_logloss: 0.384958\n",
            "Training until validation scores don't improve for 10 rounds\n",
            "[10]\ttraining's binary_logloss: 0.503233\tvalid_1's binary_logloss: 0.535474\n",
            "[20]\ttraining's binary_logloss: 0.428932\tvalid_1's binary_logloss: 0.48491\n",
            "[30]\ttraining's binary_logloss: 0.376987\tvalid_1's binary_logloss: 0.445665\n",
            "[40]\ttraining's binary_logloss: 0.347612\tvalid_1's binary_logloss: 0.431825\n",
            "[50]\ttraining's binary_logloss: 0.324481\tvalid_1's binary_logloss: 0.421209\n",
            "[60]\ttraining's binary_logloss: 0.30296\tvalid_1's binary_logloss: 0.417175\n",
            "[70]\ttraining's binary_logloss: 0.285275\tvalid_1's binary_logloss: 0.418027\n",
            "Early stopping, best iteration is:\n",
            "[60]\ttraining's binary_logloss: 0.30296\tvalid_1's binary_logloss: 0.417175\n",
            "Training until validation scores don't improve for 10 rounds\n",
            "[10]\ttraining's binary_logloss: 0.501601\tvalid_1's binary_logloss: 0.536829\n",
            "[20]\ttraining's binary_logloss: 0.421323\tvalid_1's binary_logloss: 0.480206\n",
            "[30]\ttraining's binary_logloss: 0.374662\tvalid_1's binary_logloss: 0.454731\n",
            "[40]\ttraining's binary_logloss: 0.342348\tvalid_1's binary_logloss: 0.444867\n",
            "[50]\ttraining's binary_logloss: 0.31953\tvalid_1's binary_logloss: 0.449094\n",
            "Early stopping, best iteration is:\n",
            "[41]\ttraining's binary_logloss: 0.33936\tvalid_1's binary_logloss: 0.443825\n",
            "Training until validation scores don't improve for 10 rounds\n",
            "[10]\ttraining's binary_logloss: 0.490521\tvalid_1's binary_logloss: 0.552574\n",
            "[20]\ttraining's binary_logloss: 0.410747\tvalid_1's binary_logloss: 0.513786\n",
            "[30]\ttraining's binary_logloss: 0.365729\tvalid_1's binary_logloss: 0.50309\n",
            "[40]\ttraining's binary_logloss: 0.333299\tvalid_1's binary_logloss: 0.50051\n",
            "[50]\ttraining's binary_logloss: 0.311979\tvalid_1's binary_logloss: 0.502319\n",
            "Early stopping, best iteration is:\n",
            "[41]\ttraining's binary_logloss: 0.33079\tvalid_1's binary_logloss: 0.50022\n"
          ],
          "name": "stdout"
        }
      ]
    },
    {
      "cell_type": "code",
      "metadata": {
        "id": "w17NtUsCUfAg",
        "colab_type": "code",
        "colab": {},
        "outputId": "677ab397-20bb-4fdc-a7de-48126a5c024f"
      },
      "source": [
        "pd.DataFrame(oof_train).to_csv('oof_train_skfold.csv', index=False)\n",
        "print(oof_train[:10])\n",
        "\n",
        "scores = [\n",
        "    m.best_score['valid_1']['binary_logloss'] for m in models\n",
        "]\n",
        "score = sum(scores) / len(scores)\n",
        "print('===CV scores===')\n",
        "print(scores)\n",
        "print(score)"
      ],
      "execution_count": 0,
      "outputs": [
        {
          "output_type": "stream",
          "text": [
            "[0.08722129 0.92257348 0.25395557 0.96934758 0.19973096 0.0753605\n",
            " 0.11594622 0.2968481  0.30039035 0.92417396]\n",
            "===CV scores===\n",
            "[0.38544108307546066, 0.38495752125992944, 0.4171750334987481, 0.4438252083092795, 0.5002200124410989]\n",
            "0.4263237717169034\n"
          ],
          "name": "stdout"
        }
      ]
    },
    {
      "cell_type": "code",
      "metadata": {
        "id": "AyhxS5gGUfAi",
        "colab_type": "code",
        "colab": {},
        "outputId": "cb1ae8ee-f138-412a-e3bb-afa5b35917be"
      },
      "source": [
        "from sklearn.metrics import accuracy_score\n",
        "\n",
        "\n",
        "y_pred_oof = (oof_train > 0.5).astype(int)\n",
        "accuracy_score(y_train, y_pred_oof)"
      ],
      "execution_count": 0,
      "outputs": [
        {
          "output_type": "execute_result",
          "data": {
            "text/plain": [
              "0.8148148148148148"
            ]
          },
          "metadata": {
            "tags": []
          },
          "execution_count": 22
        }
      ]
    },
    {
      "cell_type": "code",
      "metadata": {
        "id": "JJetZgV9UfAk",
        "colab_type": "code",
        "colab": {},
        "outputId": "9d4bd7e3-7889-47ff-ff57-40557c55ddd5"
      },
      "source": [
        "y_sub = sum(y_preds) / len(y_preds)\n",
        "y_sub = (y_sub > 0.5).astype(int)\n",
        "y_sub[:10]"
      ],
      "execution_count": 0,
      "outputs": [
        {
          "output_type": "execute_result",
          "data": {
            "text/plain": [
              "array([0, 0, 0, 0, 0, 0, 1, 0, 1, 0])"
            ]
          },
          "metadata": {
            "tags": []
          },
          "execution_count": 23
        }
      ]
    },
    {
      "cell_type": "code",
      "metadata": {
        "id": "j-IK_HW3UfAm",
        "colab_type": "code",
        "colab": {},
        "outputId": "6a768174-2fc6-4cec-ecc2-6c443b56a1cc"
      },
      "source": [
        "sub['Survived'] = y_sub\n",
        "sub.to_csv(\"submission_lightgbm_skfold.csv\", index=False)\n",
        "\n",
        "sub.head()"
      ],
      "execution_count": 0,
      "outputs": [
        {
          "output_type": "execute_result",
          "data": {
            "text/html": [
              "<div>\n",
              "<style scoped>\n",
              "    .dataframe tbody tr th:only-of-type {\n",
              "        vertical-align: middle;\n",
              "    }\n",
              "\n",
              "    .dataframe tbody tr th {\n",
              "        vertical-align: top;\n",
              "    }\n",
              "\n",
              "    .dataframe thead th {\n",
              "        text-align: right;\n",
              "    }\n",
              "</style>\n",
              "<table border=\"1\" class=\"dataframe\">\n",
              "  <thead>\n",
              "    <tr style=\"text-align: right;\">\n",
              "      <th></th>\n",
              "      <th>PassengerId</th>\n",
              "      <th>Survived</th>\n",
              "    </tr>\n",
              "  </thead>\n",
              "  <tbody>\n",
              "    <tr>\n",
              "      <th>0</th>\n",
              "      <td>892</td>\n",
              "      <td>0</td>\n",
              "    </tr>\n",
              "    <tr>\n",
              "      <th>1</th>\n",
              "      <td>893</td>\n",
              "      <td>0</td>\n",
              "    </tr>\n",
              "    <tr>\n",
              "      <th>2</th>\n",
              "      <td>894</td>\n",
              "      <td>0</td>\n",
              "    </tr>\n",
              "    <tr>\n",
              "      <th>3</th>\n",
              "      <td>895</td>\n",
              "      <td>0</td>\n",
              "    </tr>\n",
              "    <tr>\n",
              "      <th>4</th>\n",
              "      <td>896</td>\n",
              "      <td>0</td>\n",
              "    </tr>\n",
              "  </tbody>\n",
              "</table>\n",
              "</div>"
            ],
            "text/plain": [
              "   PassengerId  Survived\n",
              "0          892         0\n",
              "1          893         0\n",
              "2          894         0\n",
              "3          895         0\n",
              "4          896         0"
            ]
          },
          "metadata": {
            "tags": []
          },
          "execution_count": 24
        }
      ]
    }
  ]
}